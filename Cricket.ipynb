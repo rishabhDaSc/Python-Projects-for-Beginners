{
 "cells": [
  {
   "cell_type": "code",
   "execution_count": 1,
   "id": "a9ed17ba",
   "metadata": {},
   "outputs": [],
   "source": [
    "import random"
   ]
  },
  {
   "cell_type": "code",
   "execution_count": null,
   "id": "c3fb8210",
   "metadata": {},
   "outputs": [],
   "source": [
    "Name = input('Enter Your Name: ')\n",
    "print(f'{Name}...Lets Play Cricket')\n",
    "print('''INSTRUCTIONS\n",
    "Press 'Enter Key' to bat, If you type anything but 'Enter Key' then you miss the ball, Scores will be given randomly, \n",
    "Each player will have 30 balls/5 Overs to play and 3 wickets\n",
    "After 30 balls or 3 wickets the inning will end \n",
    "Player can save the score under your his/her name \n",
    "e.g - RISHABH = Player''')\n",
    "run = 0\n",
    "wicket = 0\n",
    "balls = 30\n",
    "ball = 0\n",
    "while ball < balls:\n",
    "    ball = ball + 1\n",
    "    bat = input(f'{ball}.ball...Press Enter to Bat ').upper()\n",
    "    i = ['Wide',0,1,2,'Out',3,4,6,'No Ball']\n",
    "    r = random.randint(0,8)\n",
    "    if bat == '':\n",
    "        y = i[r]\n",
    "        print(f'__________{y}__________')\n",
    "        if y == 1:\n",
    "            run = run + y\n",
    "            print(f'{Name} [{run}/{wicket}]')\n",
    "        if y == 2:\n",
    "            run = run + y\n",
    "            print(f'{Name} [{run}/{wicket}]')\n",
    "        if y == 3:\n",
    "            run = run + y\n",
    "            print(f'{Name} [{run}/{wicket}]')\n",
    "        if y == 4:\n",
    "            run = run + y\n",
    "            print(f'{Name} [{run}/{wicket}]')\n",
    "        if y == 0:\n",
    "            run = run + y\n",
    "            print(f'{Name} [{run}/{wicket}]')\n",
    "        if y == 6:\n",
    "            run = run + y\n",
    "            print(f'{Name} [{run}/{wicket}]')\n",
    "        if y == 'No Ball':\n",
    "            run = run + 1\n",
    "            ball = ball - 1\n",
    "            print(f'{Name} [{run}/{wicket}]')\n",
    "        if y == 'Wide':\n",
    "            run = run + 1\n",
    "            ball = ball - 1\n",
    "            print(f'{Name} [{run}/{wicket}]')\n",
    "        if y == 'Out':\n",
    "            wicket = wicket + 1\n",
    "            print(f'{Name} [{run}/{wicket}]')\n",
    "        if wicket == 3:\n",
    "            print('All Out')\n",
    "            print(f'{Name} scored {run} runs for {wicket} wickets on {ball} balls.')\n",
    "            break\n",
    "        if ball == balls:\n",
    "            print('End of 5 Overs')\n",
    "            print(f'{Name} scored {run} runs for {wicket} wickets on {ball} balls.')\n",
    "            break\n",
    "    else:\n",
    "        print('Ball Missed')\n",
    "        print(f'{Name} [{run}/{wicket}]')\n",
    "        \n",
    "Player = (f'{Name} [{run}/{wicket}] on {ball} balls.')"
   ]
  },
  {
   "cell_type": "code",
   "execution_count": null,
   "id": "359b19c5",
   "metadata": {},
   "outputs": [],
   "source": [
    "# 1st Player = Player"
   ]
  },
  {
   "cell_type": "code",
   "execution_count": null,
   "id": "a15fa697",
   "metadata": {},
   "outputs": [],
   "source": [
    "# 2nd Player = Player"
   ]
  },
  {
   "cell_type": "code",
   "execution_count": null,
   "id": "e2c8eddf",
   "metadata": {},
   "outputs": [],
   "source": [
    "# 3rd Player = Player"
   ]
  },
  {
   "cell_type": "code",
   "execution_count": null,
   "id": "77953fd9",
   "metadata": {},
   "outputs": [],
   "source": [
    "# print(1st Player)\n",
    "# print(2nd Player)\n",
    "# print(3rd Player)"
   ]
  }
 ],
 "metadata": {
  "kernelspec": {
   "display_name": "Python 3 (ipykernel)",
   "language": "python",
   "name": "python3"
  },
  "language_info": {
   "codemirror_mode": {
    "name": "ipython",
    "version": 3
   },
   "file_extension": ".py",
   "mimetype": "text/x-python",
   "name": "python",
   "nbconvert_exporter": "python",
   "pygments_lexer": "ipython3",
   "version": "3.9.13"
  }
 },
 "nbformat": 4,
 "nbformat_minor": 5
}
