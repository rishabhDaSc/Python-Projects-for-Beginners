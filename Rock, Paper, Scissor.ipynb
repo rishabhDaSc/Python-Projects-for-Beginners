{
 "cells": [
  {
   "cell_type": "code",
   "execution_count": 1,
   "id": "b56b6109",
   "metadata": {},
   "outputs": [],
   "source": [
    "import random\n",
    "from time import sleep"
   ]
  },
  {
   "cell_type": "code",
   "execution_count": null,
   "id": "0447b3a5",
   "metadata": {},
   "outputs": [
    {
     "name": "stdout",
     "output_type": "stream",
     "text": [
      "The\n",
      "Game\n",
      "Begins...\n"
     ]
    }
   ],
   "source": [
    "print('The')\n",
    "sleep(1)\n",
    "print('Game')\n",
    "sleep(1)\n",
    "print('Begins...')\n",
    "sleep(1)\n",
    "Name = input('Enter your name: ')\n",
    "sleep(1)\n",
    "print('Welcome...'+ Name)\n",
    "sleep(1)\n",
    "print(\"Let's Play - Rock, Paper, Scissor\")\n",
    "your_score = 0\n",
    "comp_score = 0\n",
    "draw = 0\n",
    "x = ['rock', 'paper', 'scissor']\n",
    "count = 0\n",
    "sleep(1)\n",
    "chance = int(input('How many times do you want to play this game with computer?: '))\n",
    "while count < chance:\n",
    "    count = count + 1\n",
    "    y = input(str(count) + '. Type Rock,Paper or Scissor: ').lower()\n",
    "    random1 = random.randint(0,2)\n",
    "    comp_pick = x[random1]\n",
    "    if y == 'scissor' and comp_pick == 'paper':\n",
    "        print('You won, Computer picked', comp_pick)\n",
    "        your_score = your_score + 1\n",
    "        print('Your score', your_score)\n",
    "    elif y == 'rock' and comp_pick == 'scissor':\n",
    "        print('You won, Computer picked', comp_pick)\n",
    "        your_score = your_score + 1\n",
    "        print('Your score', your_score)\n",
    "    elif y == 'paper' and comp_pick == 'rock':\n",
    "        print('You won, Computer picked', comp_pick)\n",
    "        your_score = your_score + 1\n",
    "        print('Your score', your_score)\n",
    "    elif y == 'paper' and comp_pick == 'paper':\n",
    "        print('Draw as Computer also picked', comp_pick)\n",
    "        draw = draw + 1\n",
    "    elif y == 'rock' and comp_pick == 'rock':\n",
    "        print('Draw as Computer also picked', comp_pick)\n",
    "        draw = draw + 1\n",
    "    elif y == 'scissor' and comp_pick == 'scissor':\n",
    "        print('Draw as Computer also picked', comp_pick)\n",
    "        draw = draw + 1\n",
    "    elif y not in x:\n",
    "        print('You typed irrelevant word, You loose a point')\n",
    "        your_score = your_score - 1\n",
    "    else:\n",
    "        print('You Loose, Computer picked', comp_pick)\n",
    "        comp_score = comp_score + 1\n",
    "        \n",
    "if count == chance:\n",
    "    sleep(1)\n",
    "    if your_score <= 0:\n",
    "        print('You Lost the game as your score is', your_score)\n",
    "        sleep(1)\n",
    "        print('Better luck next time')\n",
    "    else:\n",
    "        print(Name,'won', your_score, 'time.') \n",
    "        print('Computer won', comp_score, 'time.')\n",
    "        print('Match was draw', draw, 'time.')"
   ]
  },
  {
   "cell_type": "raw",
   "id": "d8f9a29d",
   "metadata": {},
   "source": []
  }
 ],
 "metadata": {
  "kernelspec": {
   "display_name": "Python 3 (ipykernel)",
   "language": "python",
   "name": "python3"
  },
  "language_info": {
   "codemirror_mode": {
    "name": "ipython",
    "version": 3
   },
   "file_extension": ".py",
   "mimetype": "text/x-python",
   "name": "python",
   "nbconvert_exporter": "python",
   "pygments_lexer": "ipython3",
   "version": "3.9.7"
  }
 },
 "nbformat": 4,
 "nbformat_minor": 5
}
