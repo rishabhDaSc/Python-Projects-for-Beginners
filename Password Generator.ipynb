{
 "cells": [
  {
   "cell_type": "markdown",
   "id": "36a47223",
   "metadata": {},
   "source": [
    "# PASSWORD GENERATOR"
   ]
  },
  {
   "cell_type": "code",
   "execution_count": null,
   "id": "cd01e602",
   "metadata": {},
   "outputs": [
    {
     "name": "stdout",
     "output_type": "stream",
     "text": [
      "The program will ask for a word with less than 10 letters.\n",
      "The program will later add random special characters and numbers \n",
      "in the word to generate a strong password.\n",
      "NOTE - The length of the password will be between 6 to 15.\n"
     ]
    }
   ],
   "source": [
    "print('''The program will ask for a word with less than 10 letters.\n",
    "The program will later add random special characters and numbers \n",
    "in the word to generate a strong password.\n",
    "NOTE - The length of the password will be between 6 to 15.''')\n",
    "import random\n",
    "max_character = 10\n",
    "key = input('Type a word with less than 10 letters: ').lower()\n",
    "if len(key) <= max_character:\n",
    "    special_characters = ['~','`','!','@','#','$','%','^','&','*','(',')','_','-','+','=',\\\n",
    "                      '{','[','}',']','|','\\\\',':',';','<',',','>','.','?','/']\n",
    "    sp_ch = random.choices(special_characters,k=3)\n",
    "    numbers = ['0','1','2','3','4','5','6','7','8','9']\n",
    "    nums = random.choices(numbers,k=2)\n",
    "    L = []\n",
    "    for letters in key:\n",
    "        L.append(letters)\n",
    "    UPPER1 = random.randint(0,len(L)-1)\n",
    "    UPPER2 = random.randint(0,len(L)-1)\n",
    "    UPPER3 = random.randint(0,len(L)-1)\n",
    "    L[UPPER1] = L[UPPER1].upper()\n",
    "    L[UPPER2] = L[UPPER2].upper()\n",
    "    L[UPPER3] = L[UPPER3].upper()\n",
    "    passkey = []\n",
    "    for a in L:\n",
    "        passkey.append(a)\n",
    "    for b in sp_ch:\n",
    "        passkey.append(b)\n",
    "    for c in nums:\n",
    "        passkey.append(c)\n",
    "    random.shuffle(passkey) \n",
    "    password = ''\n",
    "    for letter in passkey:\n",
    "        password = password + letter\n",
    "    print('Password -',password)\n",
    "    print('Length of the password -',len(password))\n",
    "else:\n",
    "    ('You typed more than 10 characters')"
   ]
  },
  {
   "cell_type": "code",
   "execution_count": null,
   "id": "9f4921da",
   "metadata": {},
   "outputs": [],
   "source": []
  }
 ],
 "metadata": {
  "kernelspec": {
   "display_name": "Python 3 (ipykernel)",
   "language": "python",
   "name": "python3"
  },
  "language_info": {
   "codemirror_mode": {
    "name": "ipython",
    "version": 3
   },
   "file_extension": ".py",
   "mimetype": "text/x-python",
   "name": "python",
   "nbconvert_exporter": "python",
   "pygments_lexer": "ipython3",
   "version": "3.9.13"
  }
 },
 "nbformat": 4,
 "nbformat_minor": 5
}
