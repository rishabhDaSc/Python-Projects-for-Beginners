{
 "cells": [
  {
   "cell_type": "markdown",
   "id": "b9829328",
   "metadata": {},
   "source": [
    "# Pokemon"
   ]
  },
  {
   "cell_type": "markdown",
   "id": "47c90888",
   "metadata": {},
   "source": [
    "_INSTRUCTIONS_\n",
    "\n",
    "2 Players can play each will type their name and number of rounds they want to play ,In 1st round program will randomly ask a player to select a power of POKEMON to compete, Type any 1 POWER from the list as written on list, System will pick POKEMON and compare the POWERS and the POKEMON with higher POWER wins and the player who owns the POKEMON wins too.'"
   ]
  },
  {
   "cell_type": "code",
   "execution_count": null,
   "id": "3d590522",
   "metadata": {},
   "outputs": [],
   "source": [
    "import pandas as pd\n",
    "import random\n",
    "from time import sleep\n",
    "column = ['#', 'POKEMON', 'TYPE_1', 'TYPE_2', 'TOTAL', 'HP', 'ATTACK', 'DEFENSE',\n",
    "       'SP_ATK', 'SP_DEF', 'SPEED', 'Generation', 'Legendary']\n",
    "pause = .5\n",
    "data = pd.read_csv('pokemon.csv')\n",
    "data['Type 2'].fillna('NA',inplace=True)\n",
    "data.columns = column\n",
    "data.head()\n",
    "power_list = ['Total', 'HP', 'Attack', 'Defense','Sp_Atk', 'Sp_Def', 'Speed']\n",
    "name1 = input('Player 1 - Enter your name: ').upper()\n",
    "name2 = input('Player 2 - Enter your name: ').upper()\n",
    "rounds = int(input('Number of rounds: '))\n",
    "name1_wins = 0\n",
    "name2_wins = 0\n",
    "round1 = 0\n",
    "sleep(pause)\n",
    "name_list = [name1,name2]\n",
    "winner = random.choice(name_list)\n",
    "print(winner,'Choose a power to compete')\n",
    "power1 = input('SELECT any 1 - Total,HP,Attack,Defense,Sp_Atk,Sp_Def,Speed: ').upper()\n",
    "while round1 < rounds:\n",
    "    round1 = round1 + 1\n",
    "    name1_random = random.randint(0,799)\n",
    "    name2_random = random.randint(0,799)\n",
    "    print(f'___{name1}___')\n",
    "    sleep(pause)\n",
    "    name1_pokemon = data.iloc[name1_random][['POKEMON',power1]] \n",
    "    sleep(pause)\n",
    "    print(data.iloc[name1_random][['POKEMON',power1]].to_string())\n",
    "    sleep(pause)\n",
    "    print(f'___{name2}___')\n",
    "    name2_pokemon = data.iloc[name2_random][['POKEMON',power1]] \n",
    "    sleep(pause)\n",
    "    print(data.iloc[name2_random][['POKEMON',power1]].to_string())\n",
    "    if name1_pokemon[power1] > name2_pokemon[power1]:\n",
    "        sleep(pause)\n",
    "        print(f\"__________{(data.iloc[name1_random]['TYPE_1']).upper()} Type Pokemon {(name1_pokemon['POKEMON']).upper()} beats {(data.iloc[name2_random]['TYPE_1']).upper()} Type Pokemon {(name2_pokemon['POKEMON']).upper()} in {power1}__________\")\n",
    "        name1_wins = name1_wins + 1\n",
    "        if round1 < rounds:\n",
    "            sleep(pause)\n",
    "            print(f'__________{name1} - WINS__________')\n",
    "            sleep(pause)\n",
    "            print(f'__________{name1}__________ Choose a power to compete')\n",
    "            power1 = input('SELECT any 1 - Total,HP,Attack,Defense,Sp_Atk,Sp_Def,Speed: ').upper()\n",
    "            continue\n",
    "    if name1_pokemon[power1] < name2_pokemon[power1]:\n",
    "        sleep(pause)\n",
    "        print(f\"__________{(data.iloc[name2_random]['TYPE_1']).upper()} Type Pokemon {(name2_pokemon['POKEMON']).upper()} beats {(data.iloc[name1_random]['TYPE_1']).upper()} Type Pokemon {(name1_pokemon['POKEMON']).upper()} in {power1}__________\")\n",
    "        name2_wins = name2_wins + 1\n",
    "        if round1 < rounds:\n",
    "            sleep(pause)\n",
    "            print(f'__________{name2} - WINS__________')\n",
    "            sleep(pause)\n",
    "            print(f'__________{name2}__________ Choose a power to compete')\n",
    "            power1 = input('SELECT any 1 - Total,HP,Attack,Defense,Sp_Atk,Sp_Def,Speed: ').upper()\n",
    "            continue\n",
    "    if name1_pokemon[power1] == name2_pokemon[power1]:\n",
    "        speed(.5)\n",
    "        print(f'__________CLASH__________')\n",
    "        if round1 < rounds:\n",
    "            sleep(pause)\n",
    "            print(winner,'Choose a power to compete')\n",
    "            power1 = input('SELECT any 1 - Total,HP,Attack,Defense,Sp_Atk,Sp_Def,Speed: ').upper()\n",
    "            continue\n",
    "if name1_wins > name2_wins:\n",
    "    print(f'{name1} won {name1_wins} rounds out of {rounds}')\n",
    "    print(f'{name1} WINS')\n",
    "if name1_wins < name2_wins:\n",
    "    print(f'{name2} won {name2_wins} rounds out of {rounds}')\n",
    "    print(f'{name2} WINS')\n",
    "if name1_wins == name2_wins:\n",
    "    print(f'{name1} and {name2} won equal number of rounds')"
   ]
  },
  {
   "cell_type": "code",
   "execution_count": null,
   "id": "aff98576",
   "metadata": {},
   "outputs": [],
   "source": []
  }
 ],
 "metadata": {
  "kernelspec": {
   "display_name": "Python 3 (ipykernel)",
   "language": "python",
   "name": "python3"
  },
  "language_info": {
   "codemirror_mode": {
    "name": "ipython",
    "version": 3
   },
   "file_extension": ".py",
   "mimetype": "text/x-python",
   "name": "python",
   "nbconvert_exporter": "python",
   "pygments_lexer": "ipython3",
   "version": "3.9.13"
  }
 },
 "nbformat": 4,
 "nbformat_minor": 5
}
