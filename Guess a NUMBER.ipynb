{
 "cells": [
  {
   "cell_type": "code",
   "execution_count": 1,
   "id": "2e0795b0",
   "metadata": {},
   "outputs": [],
   "source": [
    "import math \n",
    "import random"
   ]
  },
  {
   "cell_type": "code",
   "execution_count": null,
   "id": "e5d3bffc",
   "metadata": {},
   "outputs": [
    {
     "name": "stdout",
     "output_type": "stream",
     "text": [
      "Welcome to 'Guess a Number'\n"
     ]
    }
   ],
   "source": [
    "print(\"Welcome to 'Guess a Number'\")\n",
    "#asking player a range of numbers between lower and upper from which the player has to guess the correct number  \n",
    "lower = int(input('Enter a number: '))\n",
    "upper = int(input(f'Enter a number higher than {lower}: '))\n",
    "#system will choose a random number between lower and Upper number for the player to guess\n",
    "x = random.randint(lower,upper)\n",
    "#number of guesses will be as per the difference between upper and lower number \n",
    "num_of_guess = round(math.log(upper - lower + 1,2))\n",
    "print('You have ' + str(num_of_guess) + ' chances to guess a number between ' + str(lower) + ' & ' +  str(upper) +'.')\n",
    "count = 0\n",
    "while count < num_of_guess:\n",
    "    count += 1\n",
    "    guess = int(input(f'Guess a number between {lower} and {upper}: '))\n",
    "    if guess == x:\n",
    "        print('Congrats you guessed the correct number in ' + str(count) + ' attempts')\n",
    "        print('The number is ' + str(x))\n",
    "        break\n",
    "    elif guess < x:\n",
    "        print('You guessed a lower number, Guess a number higher than ' + str(guess))\n",
    "        print('You have ' + str(num_of_guess - count) + ' chance left')\n",
    "    elif guess > x:\n",
    "        print('You guessed a higher number, Guess a number lower than ' + str(guess))\n",
    "        print('You have ' + str(num_of_guess - count) + ' chance left')\n",
    "        \n",
    "if count == num_of_guess:\n",
    "    if guess == x:\n",
    "        print('Goodbye')\n",
    "    else:\n",
    "        print('Better luck next time!')"
   ]
  },
  {
   "cell_type": "code",
   "execution_count": null,
   "id": "45cf27d2",
   "metadata": {},
   "outputs": [],
   "source": []
  },
  {
   "cell_type": "code",
   "execution_count": null,
   "id": "41f572fc",
   "metadata": {},
   "outputs": [],
   "source": []
  }
 ],
 "metadata": {
  "kernelspec": {
   "display_name": "Python 3 (ipykernel)",
   "language": "python",
   "name": "python3"
  },
  "language_info": {
   "codemirror_mode": {
    "name": "ipython",
    "version": 3
   },
   "file_extension": ".py",
   "mimetype": "text/x-python",
   "name": "python",
   "nbconvert_exporter": "python",
   "pygments_lexer": "ipython3",
   "version": "3.9.7"
  }
 },
 "nbformat": 4,
 "nbformat_minor": 5
}
