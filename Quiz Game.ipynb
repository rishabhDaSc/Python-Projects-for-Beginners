{
 "cells": [
  {
   "cell_type": "code",
   "execution_count": 1,
   "id": "5d2c194f",
   "metadata": {},
   "outputs": [],
   "source": [
    "from time import sleep"
   ]
  },
  {
   "cell_type": "code",
   "execution_count": null,
   "id": "4d2ddb7a",
   "metadata": {},
   "outputs": [
    {
     "name": "stdout",
     "output_type": "stream",
     "text": [
      "Welcome to quiz game\n"
     ]
    }
   ],
   "source": [
    "print('Welcome to quiz game')\n",
    "question = input('Do you want to play? ').lower()\n",
    "if question == 'yes':\n",
    "    sleep(1)\n",
    "    print(\"Let's Play Quiz Game\")\n",
    "else:\n",
    "    print('Ok Goodbye')\n",
    "    quit()\n",
    "score = 0    \n",
    "answer = input(\"Which animal is known as the 'Ship of the Desert'? \").lower()\n",
    "sleep(1)\n",
    "if answer == 'camel':\n",
    "    print('Correct.')\n",
    "    score = score + 1\n",
    "    print('Your score is ' + str(score))\n",
    "else:\n",
    "    print('Incorrect')\n",
    "\n",
    "answer = input('Name the National bird of India? ').lower()\n",
    "sleep(1)\n",
    "if answer == 'peacock':\n",
    "    print('Correct.')\n",
    "    score = score + 1\n",
    "    print('Your score is ' + str(score))\n",
    "else:\n",
    "    print('Incorrect')\n",
    "    \n",
    "answer = input('Name the National tree of India? ').lower()\n",
    "sleep(1)\n",
    "if answer == 'banyan':\n",
    "    print('Correct.')\n",
    "    score = score + 1\n",
    "    print('Your score is ' + str(score))\n",
    "else:\n",
    "    print('Incorrect')\n",
    "    \n",
    "answer = input('Who gave the universal law of gravitation? ').lower()\n",
    "sleep(1)\n",
    "if answer == 'isaac newton':\n",
    "    print('Correct.')\n",
    "    score = score + 1\n",
    "    print('Your score is ' + str(score))\n",
    "else:\n",
    "    print('Incorrect')\n",
    "    \n",
    "answer = input('Name the National Reptile of India? ').lower()\n",
    "sleep(1)\n",
    "if answer == 'king cobra':\n",
    "    print('Correct.')\n",
    "    score = score + 1\n",
    "    print('Your score is ' + str(score))\n",
    "else:\n",
    "    print('Incorrect')\n",
    "    \n",
    "answer = input('Name the largest mammal? ').lower()\n",
    "sleep(1)\n",
    "if answer == 'blue whale':\n",
    "    print('Correct.')\n",
    "    score = score + 1\n",
    "    print('Your score is ' + str(score))\n",
    "else:\n",
    "    print('Incorrect')\n",
    "    \n",
    "answer = input('Name the largest planet of our Solar System? ').lower()\n",
    "sleep(1)\n",
    "if answer == 'jupiter':\n",
    "    print('Correct.')\n",
    "    score = score + 1\n",
    "    print('Your score is ' + str(score))\n",
    "else:\n",
    "    print('Incorrect')\n",
    "    \n",
    "answer = input('Name a bird that lays the largest eggs? ').lower()\n",
    "sleep(1)\n",
    "if answer == 'ostrich':\n",
    "    print('Correct.')\n",
    "    score = score + 1\n",
    "    print('Your score is ' + str(score))\n",
    "else:\n",
    "    print('Incorrect')\n",
    "    \n",
    "sleep(1)\n",
    "print('You gave ' + str(score) + ' correct answers out of 8.')\n",
    "sleep(1)\n",
    "print('You got ' + str((score / 8) * 100) + '%')"
   ]
  },
  {
   "cell_type": "code",
   "execution_count": null,
   "id": "6f0478c3",
   "metadata": {},
   "outputs": [],
   "source": []
  }
 ],
 "metadata": {
  "kernelspec": {
   "display_name": "Python 3 (ipykernel)",
   "language": "python",
   "name": "python3"
  },
  "language_info": {
   "codemirror_mode": {
    "name": "ipython",
    "version": 3
   },
   "file_extension": ".py",
   "mimetype": "text/x-python",
   "name": "python",
   "nbconvert_exporter": "python",
   "pygments_lexer": "ipython3",
   "version": "3.9.7"
  }
 },
 "nbformat": 4,
 "nbformat_minor": 5
}
